{
 "cells": [
  {
   "cell_type": "code",
   "execution_count": null,
   "metadata": {},
   "outputs": [],
   "source": [
    "%run oanda_initial.py"
   ]
  },
  {
   "cell_type": "code",
   "execution_count": null,
   "metadata": {
    "scrolled": true
   },
   "outputs": [],
   "source": [
    "OrderData"
   ]
  },
  {
   "cell_type": "code",
   "execution_count": null,
   "metadata": {},
   "outputs": [],
   "source": [
    "df=pd.DataFrame(columns=['ID','price','time'])\n",
    "df"
   ]
  },
  {
   "cell_type": "code",
   "execution_count": null,
   "metadata": {},
   "outputs": [],
   "source": [
    "df=df.append(pd.DataFrame([['1556','130','10:05']],columns=df.columns),ignore_index=True)\n",
    "df"
   ]
  },
  {
   "cell_type": "code",
   "execution_count": null,
   "metadata": {},
   "outputs": [],
   "source": [
    "df2=df.drop(3)\n",
    "df2"
   ]
  },
  {
   "cell_type": "code",
   "execution_count": null,
   "metadata": {},
   "outputs": [],
   "source": [
    "df2.reset_index()"
   ]
  },
  {
   "cell_type": "code",
   "execution_count": null,
   "metadata": {},
   "outputs": [],
   "source": [
    "LongTradeList=pd.DataFrame(columns=['ID','price','time'])\n",
    "LongTradeList"
   ]
  },
  {
   "cell_type": "code",
   "execution_count": null,
   "metadata": {},
   "outputs": [],
   "source": [
    "OrderData[ 'orderFillTransaction']['tradeOpened']['tradeID']"
   ]
  },
  {
   "cell_type": "code",
   "execution_count": null,
   "metadata": {},
   "outputs": [],
   "source": [
    "float(OrderData['orderFillTransaction']['price'])"
   ]
  },
  {
   "cell_type": "code",
   "execution_count": null,
   "metadata": {},
   "outputs": [],
   "source": [
    "OrderData[ 'orderFillTransaction']['time']"
   ]
  },
  {
   "cell_type": "code",
   "execution_count": null,
   "metadata": {},
   "outputs": [],
   "source": [
    "from pytz import timezone\n",
    "from dateutil import parser\n",
    "parser.parse(OrderData[ 'orderFillTransaction']['time']).astimezone(timezone('Asia/Tokyo'))"
   ]
  },
  {
   "cell_type": "code",
   "execution_count": null,
   "metadata": {},
   "outputs": [],
   "source": [
    "parser.parse(OrderData[ 'orderFillTransaction']['time']).astimezone(timezone('Asia/Tokyo')).replace(tzinfo=None)"
   ]
  },
  {
   "cell_type": "code",
   "execution_count": null,
   "metadata": {},
   "outputs": [],
   "source": [
    "parser.parse(OrderData[ 'orderFillTransaction']['time']).astimezone(timezone('Asia/Tokyo')).replace(tzinfo=None).strftime(\"%Y/%m/%d %H:%M:%S\")"
   ]
  },
  {
   "cell_type": "code",
   "execution_count": null,
   "metadata": {},
   "outputs": [],
   "source": [
    "LongTradeList=LongTradeList.append(pd.DataFrame([[OrderData['id'],float(OrderData['price']),parser.parse(OrderData['time']).astimezone(timezone('Asia/Tokyo')).replace(tzinfo=None)]],columns=df.columns),ignore_index=True)\n",
    "LongTradeList"
   ]
  },
  {
   "cell_type": "code",
   "execution_count": null,
   "metadata": {},
   "outputs": [],
   "source": [
    "LongTradeList.loc[1]['price']"
   ]
  },
  {
   "cell_type": "code",
   "execution_count": null,
   "metadata": {},
   "outputs": [],
   "source": [
    "LongTradeList['price'][1]"
   ]
  },
  {
   "cell_type": "code",
   "execution_count": null,
   "metadata": {},
   "outputs": [],
   "source": [
    "LongTradeList['ID'][1]"
   ]
  },
  {
   "cell_type": "code",
   "execution_count": null,
   "metadata": {},
   "outputs": [],
   "source": [
    " LongTradeList.loc[[1],['price']]>134"
   ]
  },
  {
   "cell_type": "code",
   "execution_count": null,
   "metadata": {},
   "outputs": [],
   "source": [
    "if LongTradeList['price'][1]>134:\n",
    "    print('OK')"
   ]
  },
  {
   "cell_type": "code",
   "execution_count": null,
   "metadata": {},
   "outputs": [],
   "source": [
    "datetime.now(pytz.timezone('Asia/Tokyo'))"
   ]
  },
  {
   "cell_type": "code",
   "execution_count": null,
   "metadata": {},
   "outputs": [],
   "source": [
    "LongTradeList['time'][1]"
   ]
  },
  {
   "cell_type": "code",
   "execution_count": null,
   "metadata": {},
   "outputs": [],
   "source": [
    "LongTradeList['time'][1].replace(tzinfo=None)"
   ]
  },
  {
   "cell_type": "code",
   "execution_count": null,
   "metadata": {},
   "outputs": [],
   "source": [
    "a=datetime.now(pytz.timezone('Asia/Tokyo'))\n",
    "b=datetime.now()"
   ]
  },
  {
   "cell_type": "code",
   "execution_count": null,
   "metadata": {},
   "outputs": [],
   "source": [
    "a-LongTradeList['time'][1]"
   ]
  },
  {
   "cell_type": "code",
   "execution_count": null,
   "metadata": {},
   "outputs": [],
   "source": [
    "b-LongTradeList['time'][1].replace(tzinfo=None)"
   ]
  },
  {
   "cell_type": "code",
   "execution_count": null,
   "metadata": {},
   "outputs": [],
   "source": [
    "datetime.now()-LongTradeList['time'][3]"
   ]
  },
  {
   "cell_type": "code",
   "execution_count": null,
   "metadata": {},
   "outputs": [],
   "source": [
    "def CloseID(id):\n",
    "    global position,win,lose,money,money_log,realizedPL,LongPos,ShortPos\n",
    "    r=trades.TradeClose(accountID=account_id,tradeID=id,data={'units':'ALL'})\n",
    "    CloseData=oanda.request(r)[\"orderFillTransaction\"]\n",
    "    realizedPL+=float(CloseData['pl'])+float(CloseData['financing'])-float(CloseData['commission']) # realizedPL:実現損益\n",
    "    money+=float(CloseData['pl'])+float(CloseData['financing'])-float(CloseData['commission'])\n",
    "    if float(CloseData['pl'])>0: win+=1\n",
    "    else: lose+=1\n",
    "    money_log.append(money)\n",
    "    if float(CloseData['units'])>0: LongPos=0\n",
    "    else: ShortPos=0"
   ]
  },
  {
   "cell_type": "code",
   "execution_count": null,
   "metadata": {},
   "outputs": [],
   "source": [
    "CloseID('3571')"
   ]
  },
  {
   "cell_type": "code",
   "execution_count": null,
   "metadata": {},
   "outputs": [],
   "source": [
    "CloseID(LongTradeList['ID'][4])"
   ]
  },
  {
   "cell_type": "code",
   "execution_count": null,
   "metadata": {},
   "outputs": [],
   "source": [
    "r=trades.TradeClose(accountID=account_id,tradeID='3563',data={'units':'ALL'})\n",
    "CloseData=oanda.request(r)[\"orderFillTransaction\"]"
   ]
  },
  {
   "cell_type": "code",
   "execution_count": null,
   "metadata": {},
   "outputs": [],
   "source": [
    "CloseData"
   ]
  },
  {
   "cell_type": "code",
   "execution_count": null,
   "metadata": {},
   "outputs": [],
   "source": [
    "r=trades.TradeClose(accountID=account_id,tradeID='3561',data={'units':'ALL'})\n",
    "oanda.request(r)"
   ]
  },
  {
   "cell_type": "code",
   "execution_count": null,
   "metadata": {},
   "outputs": [],
   "source": [
    "OrderData=TradeForLot(250000)['orderFillTransaction'] # 最大２５万Units"
   ]
  },
  {
   "cell_type": "code",
   "execution_count": null,
   "metadata": {},
   "outputs": [],
   "source": [
    "OrderData=TradeForLot(-250000)['orderFillTransaction'] # 最大２５万Units"
   ]
  },
  {
   "cell_type": "code",
   "execution_count": null,
   "metadata": {},
   "outputs": [],
   "source": [
    "OrderData"
   ]
  },
  {
   "cell_type": "code",
   "execution_count": null,
   "metadata": {},
   "outputs": [],
   "source": [
    "def close_position(LongShort): # ロングまたはショートの取引をすべてクローズする関数\n",
    "    global position,win,lose,money,money_log,ticket,realizedPL\n",
    "    dd={LongShort+'Units':'ALL'}\n",
    "    g = positions.PositionClose(accountID=account_id,data=dd,instrument=ex_pair)\n",
    "    oanda.request(g)"
   ]
  },
  {
   "cell_type": "code",
   "execution_count": null,
   "metadata": {},
   "outputs": [],
   "source": [
    "close_position('long') # ロングの取引をクローズ"
   ]
  },
  {
   "cell_type": "code",
   "execution_count": null,
   "metadata": {},
   "outputs": [],
   "source": [
    "close_position('short') # ショートの取引をクローズ"
   ]
  },
  {
   "cell_type": "code",
   "execution_count": null,
   "metadata": {},
   "outputs": [],
   "source": [
    "# すべてクローズ\n",
    "r=positions.PositionDetails(accountID=account_id, instrument=ex_pair)\n",
    "PosDet=oanda.request(r)\n",
    "if float(PosDet['position']['long']['units'])!=0:\n",
    "    close_position('long')\n",
    "if float(PosDet['position']['short']['units'])!=0:\n",
    "    close_position('short')"
   ]
  },
  {
   "cell_type": "code",
   "execution_count": null,
   "metadata": {
    "scrolled": true
   },
   "outputs": [],
   "source": [
    "PosDet=positions.PositionDetails(accountID=account_id, instrument=ex_pair)\n",
    "oanda.request(r)"
   ]
  },
  {
   "cell_type": "code",
   "execution_count": null,
   "metadata": {},
   "outputs": [],
   "source": [
    "PosDet=positions.PositionDetails(accountID=account_id, instrument=ex_pair)\n",
    "pl=float(oanda.request(PosDet)['position']['unrealizedPL'])\n",
    "pl"
   ]
  },
  {
   "cell_type": "code",
   "execution_count": null,
   "metadata": {},
   "outputs": [],
   "source": [
    "r.response[\"account\"][\"marginCloseoutPercent\"]"
   ]
  },
  {
   "cell_type": "code",
   "execution_count": null,
   "metadata": {},
   "outputs": [],
   "source": [
    "r.response['account']['withdrawalLimit']"
   ]
  },
  {
   "cell_type": "code",
   "execution_count": null,
   "metadata": {
    "scrolled": true
   },
   "outputs": [],
   "source": [
    "r.response"
   ]
  },
  {
   "cell_type": "code",
   "execution_count": null,
   "metadata": {},
   "outputs": [],
   "source": [
    "import oandapyV20\n",
    "import oandapyV20.endpoints.trades as trades"
   ]
  },
  {
   "cell_type": "code",
   "execution_count": null,
   "metadata": {},
   "outputs": [],
   "source": [
    "r = trades.TradeDetails(accountID=account_id, tradeID='3556')\n",
    "oanda.request(r)"
   ]
  },
  {
   "cell_type": "code",
   "execution_count": null,
   "metadata": {},
   "outputs": [],
   "source": [
    "loop.stop()"
   ]
  },
  {
   "cell_type": "code",
   "execution_count": null,
   "metadata": {},
   "outputs": [],
   "source": [
    "%run TradeBot_Namping_Hedging.py"
   ]
  },
  {
   "cell_type": "code",
   "execution_count": null,
   "metadata": {},
   "outputs": [],
   "source": []
  }
 ],
 "metadata": {
  "kernelspec": {
   "display_name": "Python 3",
   "language": "python",
   "name": "python3"
  },
  "language_info": {
   "codemirror_mode": {
    "name": "ipython",
    "version": 3
   },
   "file_extension": ".py",
   "mimetype": "text/x-python",
   "name": "python",
   "nbconvert_exporter": "python",
   "pygments_lexer": "ipython3",
   "version": "3.7.3"
  }
 },
 "nbformat": 4,
 "nbformat_minor": 2
}