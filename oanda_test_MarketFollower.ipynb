{
 "cells": [
  {
   "cell_type": "code",
   "execution_count": null,
   "metadata": {},
   "outputs": [],
   "source": [
    "%run oanda_initial.py"
   ]
  },
  {
   "cell_type": "code",
   "execution_count": null,
   "metadata": {},
   "outputs": [],
   "source": [
    "import matplotlib.pyplot as plt\n",
    "import seaborn as sns\n",
    "N =240 # data number\n",
    "dt =5 # data step [s]\n",
    "t = np.arange(0, N*dt, dt) # time\n",
    "freq = np.linspace(0, 1.0/dt, N) # frequency step\n",
    "close=get_mdata(N,'GBP_JPY')['close']\n",
    "#np.array(close)\n",
    "plt.plot(t/60,close)"
   ]
  },
  {
   "cell_type": "code",
   "execution_count": null,
   "metadata": {},
   "outputs": [],
   "source": [
    "speed=0\n",
    "for i in range(len(close)-1):\n",
    "    speed=np.append(speed,close[i+1]-close[i])"
   ]
  },
  {
   "cell_type": "code",
   "execution_count": null,
   "metadata": {},
   "outputs": [],
   "source": [
    "speed"
   ]
  },
  {
   "cell_type": "code",
   "execution_count": null,
   "metadata": {
    "scrolled": true
   },
   "outputs": [],
   "source": [
    "plt.plot(t/60,speed*2+close[0],t/60,close)"
   ]
  },
  {
   "cell_type": "code",
   "execution_count": null,
   "metadata": {},
   "outputs": [],
   "source": [
    "AveDiff(20,30)"
   ]
  },
  {
   "cell_type": "code",
   "execution_count": null,
   "metadata": {},
   "outputs": [],
   "source": [
    "AveDiffSpeed=0\n",
    "for i in range(len(close)-1):\n",
    "    AveDiffSpeed=np.append(AveDiffSpeed,AveDiff(20,30)[i+1]-AveDiff(20,30)[i])"
   ]
  },
  {
   "cell_type": "code",
   "execution_count": null,
   "metadata": {},
   "outputs": [],
   "source": [
    "Anum_Long"
   ]
  },
  {
   "cell_type": "code",
   "execution_count": null,
   "metadata": {},
   "outputs": [],
   "source": [
    "AveDiff(20,35)"
   ]
  },
  {
   "cell_type": "code",
   "execution_count": null,
   "metadata": {},
   "outputs": [],
   "source": [
    "TradeForLot(money*25/ask*0.5);"
   ]
  },
  {
   "cell_type": "code",
   "execution_count": null,
   "metadata": {},
   "outputs": [],
   "source": [
    "TradeForLot(250000); # 最大２５万Units"
   ]
  },
  {
   "cell_type": "code",
   "execution_count": null,
   "metadata": {},
   "outputs": [],
   "source": [
    "TradeForLot(50000); # 最大２５万Units"
   ]
  },
  {
   "cell_type": "code",
   "execution_count": null,
   "metadata": {},
   "outputs": [],
   "source": [
    "TradeForLot(-250000); # 最大２５万Units"
   ]
  },
  {
   "cell_type": "code",
   "execution_count": null,
   "metadata": {},
   "outputs": [],
   "source": [
    "account_id"
   ]
  },
  {
   "cell_type": "code",
   "execution_count": null,
   "metadata": {},
   "outputs": [],
   "source": [
    "a='long'"
   ]
  },
  {
   "cell_type": "code",
   "execution_count": null,
   "metadata": {},
   "outputs": [],
   "source": [
    "{a+'Units':'ALL'}"
   ]
  },
  {
   "cell_type": "code",
   "execution_count": null,
   "metadata": {},
   "outputs": [],
   "source": [
    "def close_position(LongShort): # ロングまたはショートの取引をすべてクローズ\n",
    "    global position,win,lose,money,money_log,ticket,realizedPL\n",
    "    if LongShort=='long':\n",
    "        dd={'longUnits':'ALL'}\n",
    "    elif LongShort=='short':\n",
    "        dd={'shortUnits':'ALL'}\n",
    "    g = positions.PositionClose(accountID=account_id,data=dd,instrument=ex_pair)\n",
    "    oanda.request(g)"
   ]
  },
  {
   "cell_type": "code",
   "execution_count": null,
   "metadata": {},
   "outputs": [],
   "source": [
    "def close_position(LongShort): # ロングまたはショートの取引をすべてクローズ\n",
    "    global position,win,lose,money,money_log,ticket,realizedPL\n",
    "    dd={LongShort+'Units':'ALL'}\n",
    "    g = positions.PositionClose(accountID=account_id,data=dd,instrument=ex_pair)\n",
    "    oanda.request(g)"
   ]
  },
  {
   "cell_type": "code",
   "execution_count": null,
   "metadata": {},
   "outputs": [],
   "source": [
    "close_position('short')"
   ]
  },
  {
   "cell_type": "code",
   "execution_count": null,
   "metadata": {},
   "outputs": [],
   "source": [
    "# すべてクローズ\n",
    "r=positions.PositionDetails(accountID=account_id, instrument=ex_pair)\n",
    "PosDet=oanda.request(r)\n",
    "if float(PosDet['position']['long']['units'])!=0:\n",
    "    close_position('long')\n",
    "if float(PosDet['position']['short']['units'])!=0:\n",
    "    close_position('short')"
   ]
  },
  {
   "cell_type": "code",
   "execution_count": null,
   "metadata": {},
   "outputs": [],
   "source": [
    "r=positions.PositionDetails(accountID=account_id, instrument=ex_pair)\n",
    "PosDet=oanda.request(r)\n",
    "PosDet['position']"
   ]
  },
  {
   "cell_type": "code",
   "execution_count": null,
   "metadata": {},
   "outputs": [],
   "source": [
    "PosDet['position']['long']['units']"
   ]
  },
  {
   "cell_type": "code",
   "execution_count": null,
   "metadata": {},
   "outputs": [],
   "source": [
    "r=positions.PositionDetails(accountID=account_id, instrument=ex_pair)\n",
    "PosDet=oanda.request(r)\n",
    "print(PosDet['position']['long']['unrealizedPL'])\n",
    "print(PosDet['position']['short']['unrealizedPL'])"
   ]
  },
  {
   "cell_type": "code",
   "execution_count": null,
   "metadata": {},
   "outputs": [],
   "source": [
    "loop.stop()"
   ]
  },
  {
   "cell_type": "code",
   "execution_count": null,
   "metadata": {
    "collapsed": true
   },
   "outputs": [],
   "source": [
    "%run TradeBot_MarketFollower_Cross.py"
   ]
  },
  {
   "cell_type": "code",
   "execution_count": null,
   "metadata": {
    "collapsed": true
   },
   "outputs": [],
   "source": [
    "%run TradeBot_Namping_MultiTime2.py"
   ]
  },
  {
   "cell_type": "code",
   "execution_count": null,
   "metadata": {
    "collapsed": true
   },
   "outputs": [],
   "source": [
    "%run TradeBot_MarketFollower_CrossHedging.py"
   ]
  },
  {
   "cell_type": "code",
   "execution_count": null,
   "metadata": {},
   "outputs": [],
   "source": [
    "%run TradeBot_MarketFollower_CrossLossCut.py"
   ]
  },
  {
   "cell_type": "code",
   "execution_count": null,
   "metadata": {},
   "outputs": [],
   "source": [
    "%run TradeBot_Namping_Hedging.py"
   ]
  },
  {
   "cell_type": "code",
   "execution_count": null,
   "metadata": {},
   "outputs": [],
   "source": []
  }
 ],
 "metadata": {
  "kernelspec": {
   "display_name": "Python 3",
   "language": "python",
   "name": "python3"
  },
  "language_info": {
   "codemirror_mode": {
    "name": "ipython",
    "version": 3
   },
   "file_extension": ".py",
   "mimetype": "text/x-python",
   "name": "python",
   "nbconvert_exporter": "python",
   "pygments_lexer": "ipython3",
   "version": "3.7.3"
  }
 },
 "nbformat": 4,
 "nbformat_minor": 2
}